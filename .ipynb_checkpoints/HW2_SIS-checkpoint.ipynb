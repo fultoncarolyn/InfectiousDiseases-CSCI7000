{
 "cells": [
  {
   "cell_type": "code",
   "execution_count": 2,
   "id": "bd9319ae-07e9-4ba7-952a-725759307bcc",
   "metadata": {},
   "outputs": [],
   "source": [
    "import numpy as np\n",
    "import matplotlib.pyplot as plt\n",
    "from scipy.optimize import fsolve"
   ]
  },
  {
   "cell_type": "code",
   "execution_count": 3,
   "id": "840705d7-f1b3-4830-930b-ecdcf9008fbc",
   "metadata": {},
   "outputs": [
    {
     "data": {
      "text/plain": [
       "0.04283504637204699"
      ]
     },
     "execution_count": 3,
     "metadata": {},
     "output_type": "execute_result"
    }
   ],
   "source": [
    "# Set duration grid (in days)\n",
    "step = 0.5 # stepsize\n",
    "t0 = 0 #initial time\n",
    "tf = 25 #final time\n",
    "n = int(np.ceil((tf-t0)/step)) #number of data points\n",
    "ts = np.linspace(t0,tf,n+1)\n",
    "step = ts[1]-ts[0]\n",
    "\n",
    "# Introduce constraints\n",
    "N = 1  #total population - in normalized system set to 1 (percentages)\n",
    "I0 = 0.01 #initial infected\n",
    "S0 = N - I0 #initial susceptible\n",
    "\n",
    "# Introduce parameters\n",
    "beta = 3.0\n",
    "gamma = 2.0\n",
    "\n",
    "# Set initial conditions\n",
    "\n",
    "y = np.zeros((len(ts),2))\n",
    "y[0] = S0, I0\n",
    "\n",
    "# Analytical Solution\n",
    "r0 = beta / gamma\n",
    "K = 1 - (1/r0)\n",
    "\n",
    "def theory(ts):\n",
    "    return K/(1 + ((K-I0)/I0)*np.exp(-(beta-gamma)*ts))\n",
    "\n",
    "\n",
    "# SIS Model\n",
    "def model(y,t,N,beta,gamma):\n",
    "    S, I = y\n",
    "    dSdt = -beta * S * I + gamma * I\n",
    "    dIdt = beta * S * I - gamma * I\n",
    "    return np.array([dSdt, dIdt])\n",
    "\n",
    "for i, t in enumerate(ts[:-1]):\n",
    "    y[i+1] = y[i] + step*model(y[i], t, N ,beta, gamma)\n",
    "    \n",
    "infected = y[:,1]\n",
    "\n",
    "# Plot the FE and Analytical approx\n",
    "'''\n",
    "plt.plot(ts,infected, color = 'red')\n",
    "plt.plot(ts,theory(ts),color = 'black', linestyle='dashed')\n",
    "plt.ylim(0,0.5)\n",
    "plt.title('Fulton SIS')\n",
    "plt.xlabel('Time (days)')\n",
    "plt.ylabel('Proportion of Population')\n",
    "plt.legend(['Forward Euler', 'Analytical'])\n",
    "plt.show()\n",
    "'''\n",
    "\n",
    "\n",
    "# Calculate the error between FE and Analytical for given timestep (n +1 measurements)\n",
    "\n",
    "error = abs(infected - theory(ts))\n",
    "maxerror = max(error)\n",
    "maxerror\n"
   ]
  },
  {
   "cell_type": "code",
   "execution_count": 4,
   "id": "3fd51498-7bf5-4244-86dc-f49f10d67e08",
   "metadata": {},
   "outputs": [],
   "source": [
    "#Vals for ref when making table (this is the super lazy/slow way of going about this tbh...)\n",
    "# 2.0 -> 0.118136824867308\n",
    "# 1.0 -> 0.08077107437456943\n",
    "# 0.5 -> 0.04283504637204699\n",
    "# 0.25 -> 0.02199772042578746\n",
    "# 0.0125 -> 0.001119446782795297\n",
    "# 0.00625 -> 0.0005599050455105392\n",
    "# 0.003125 -> 0.0002799973926034538"
   ]
  },
  {
   "cell_type": "code",
   "execution_count": 7,
   "id": "1fac7f0b-b160-4736-a4ef-5ffac7560615",
   "metadata": {},
   "outputs": [
    {
     "data": {
      "image/png": "[encoded data removed]",
      "text/plain": [
       "<Figure size 640x480 with 1 Axes>"
      ]
     },
     "metadata": {},
     "output_type": "display_data"
    }
   ],
   "source": [
    "# Plot error for stepsizes 2, 1, 0.5, 0.25, 0.0125, 0.00625, 0.003125\n",
    "\n",
    "# Create np.array with specific values\n",
    "errperstep = np.array([[2.0,0.118136824867308],[1.0,0.08077107437456943],[0.5,0.04283504637204699],[0.25,0.02199772042578746],[0.0125,0.001119446782795297], [0.00625,0.0005599050455105392], [0.003125,0.0002799973926034538]])\n",
    "stepvals = errperstep[:,0]\n",
    "errvals = errperstep[:,1]\n",
    "\n",
    "# Create plot\n",
    "plt.scatter(errvals,stepvals)\n",
    "plt.xscale('log')\n",
    "plt.yscale('log')\n",
    "plt.title('Fulton Error vs. Stepsize')\n",
    "plt.xlabel('Computed Error')\n",
    "plt.ylabel('Time Step Size')\n",
    "plt.legend(['Specified Stepsizes', 'Line of Best Fit'])\n",
    "plt.show()"
   ]
  },
  {
   "cell_type": "code",
   "execution_count": null,
   "id": "6fa00245-1dd6-4a46-a34f-6da46a54798f",
   "metadata": {},
   "outputs": [],
   "source": []
  }
 ],
 "metadata": {
  "kernelspec": {
   "display_name": "Python 3 (ipykernel)",
   "language": "python",
   "name": "python3"
  },
  "language_info": {
   "codemirror_mode": {
    "name": "ipython",
    "version": 3
   },
   "file_extension": ".py",
   "mimetype": "text/x-python",
   "name": "python",
   "nbconvert_exporter": "python",
   "pygments_lexer": "ipython3",
   "version": "3.10.7"
  }
 },
 "nbformat": 4,
 "nbformat_minor": 5
}
